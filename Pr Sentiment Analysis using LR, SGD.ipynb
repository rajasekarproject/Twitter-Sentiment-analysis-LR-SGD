{
 "cells": [
  {
   "cell_type": "markdown",
   "metadata": {},
   "source": [
    "## Simple - Sentiment Analysis using NLTK"
   ]
  },
  {
   "cell_type": "markdown",
   "metadata": {},
   "source": [
    "###  What we need for doing sentiment analysis?\n",
    "\n",
    "     \n",
    "     1.) Library - Which library are we going to use? There are many ways to do sentiment analysis like\n",
    "           -'NLTK', 'TEXTBLOB', 'Logistic Regression', 'VaderSentiment', 'Naive Bayes algo', 'SGD(Stochastic Gradient                    Descent)' etc.., \n",
    "           \n",
    "     2.) Data(Training) for Algorithms - Pre classifeid data based on positive words, negative words from a huge text.\n",
    "     \n",
    "         a.) Downlaod data from link - http://www.cs.cornell.edu/people/pabo/movie-review-data/review_polarity.tar.gz\n",
    "         \n",
    "         b.) Text preprocess - Training data\n",
    "         \n",
    "         c.) Split data - Training and Testing\n",
    "         \n",
    "     3.) Fit Model & Predict - Basically we are fitting the model with train data and predict using test data for accuracy.\n",
    "     \n",
    "     4.) Data(Real) Sentiment analysis - Extract anyone of the types direct data like 'string' typed by you,text file,              csv file or social media streaming (Twitter, Facebook, Reddit etc..,) or web scrapping (Web pages)\n",
    "          \n",
    "         a.) Extract data - Here data is extracted from 'Twitter'\n",
    "         \n",
    "         b.) Text preprocessing (We are not performing all the listed below but these are steps taken care using some                    functions)\n",
    "         \n",
    "            - Unstructured data to structured data\n",
    "            - Removing special characters, symbols\n",
    "            - Removing stop words\n",
    "            - BOW (Bag of words) / Tokenization\n",
    "            - Upper case to Lower case conversion\n",
    "            - Stemming/ Lemmatization\n",
    "            - NER ( Named Entity Recognition)\n",
    "            - Covert 'Word to vector'\n",
    "            \n",
    "     5.) Perform Sentiment Analysis - using algorithms"
   ]
  },
  {
   "cell_type": "markdown",
   "metadata": {},
   "source": [
    "### 1. Library ---> Import library"
   ]
  },
  {
   "cell_type": "code",
   "execution_count": 401,
   "metadata": {},
   "outputs": [],
   "source": [
    "from tweepy import OAuthHandler, API ## For data extraction from twitter\n",
    "from nltk.corpus import stopwords\n",
    "from sklearn.datasets import load_files\n",
    "from sklearn.feature_extraction.text import TfidfVectorizer, TfidfTransformer, CountVectorizer\n",
    "from sklearn.linear_model import LogisticRegression, SGDClassifier\n",
    "from sklearn.model_selection import train_test_split\n",
    "from sklearn.metrics import accuracy_score\n",
    "import matplotlib.pyplot as plt\n",
    "import collections\n",
    "import numpy as np"
   ]
  },
  {
   "cell_type": "markdown",
   "metadata": {},
   "source": [
    "### 2. Data(Training) for Algorithms - Pre classifeid data based on positive words, negative words from a huge text."
   ]
  },
  {
   "cell_type": "markdown",
   "metadata": {},
   "source": [
    "### a.) Download data "
   ]
  },
  {
   "cell_type": "code",
   "execution_count": 409,
   "metadata": {},
   "outputs": [
    {
     "data": {
      "text/plain": [
       "2000"
      ]
     },
     "execution_count": 409,
     "metadata": {},
     "output_type": "execute_result"
    }
   ],
   "source": [
    "### Download the data using link -http://www.cs.cornell.edu/people/pabo/movie-review-data/review_polarity.tar.gz\n",
    "## Save it in your local machine and extract\n",
    "## We need to train the model with known data \n",
    "## The known data says whether the sentence is positive or negative\n",
    "## finally model can predict for unseen data\n",
    "dat = load_files('C:/Users/MACBOOK PRO/Desktop/Datascience/b20190403/review_polarity/txt_sentoken')\n",
    "X = dat.data\n",
    "y = dat.target\n",
    "len(X)"
   ]
  },
  {
   "cell_type": "code",
   "execution_count": 348,
   "metadata": {},
   "outputs": [
    {
     "data": {
      "text/plain": [
       "2000"
      ]
     },
     "execution_count": 348,
     "metadata": {},
     "output_type": "execute_result"
    }
   ],
   "source": [
    "len(y)"
   ]
  },
  {
   "cell_type": "markdown",
   "metadata": {},
   "source": [
    "###         b.) Text preprocess - Training data\n"
   ]
  },
  {
   "cell_type": "code",
   "execution_count": 349,
   "metadata": {},
   "outputs": [],
   "source": [
    "## Create corpus\n",
    "corpus = []\n",
    "for i in range(0,2000):\n",
    "    clean_text = re.sub(r'\\W', ' ', str(X[i]))\n",
    "    clean_text = re.sub(r'^br$', ' ', clean_text)\n",
    "    clean_text = re.sub(r'\\s+^br$\\s+', ' ', clean_text)\n",
    "    clean_text = re.sub(r'\\s+[a-z]\\s+', ' ', clean_text)\n",
    "    clean_text = re.sub(r'^b\\s+', ' ', clean_text)\n",
    "    clean_text = re.sub(r'\\s+', ' ', clean_text) \n",
    "    clean_text = clean_text.lower()    \n",
    "    corpus.append(clean_text)    "
   ]
  },
  {
   "cell_type": "code",
   "execution_count": 350,
   "metadata": {},
   "outputs": [],
   "source": [
    "## Either you can use (countvectorizer and TFIDFTransfromer) together or directly use TFIDFVectorizer"
   ]
  },
  {
   "cell_type": "code",
   "execution_count": 351,
   "metadata": {},
   "outputs": [],
   "source": [
    "## *******************Note --> this is completely optional step for understanding*************************\n",
    "\n",
    "#CountVectorizer -- Convert a collection of text documents to matrix of token counts\n",
    "countvector    = CountVectorizer(stop_words= stopwords.words('english')) \n",
    "tfidftransform = TfidfTransformer()\n",
    "\n",
    "X = countvector.fit_transform(corpus).toarray() \n",
    "\n",
    "X = tfidftransform.fit_transform(X).toarray()\n",
    "\n",
    "#print(countvector.get_feature_names())"
   ]
  },
  {
   "cell_type": "code",
   "execution_count": 352,
   "metadata": {},
   "outputs": [],
   "source": [
    "# using TfidfVectorizer directly \n",
    "\n",
    "tfidfvector   = TfidfVectorizer(max_features=1082, min_df=3, max_df=0.6, stop_words=stopwords.words('english')) ## TFIDF word vectorizer\n",
    "\n",
    "X = tfidfvector.fit_transform(corpus).toarray()"
   ]
  },
  {
   "cell_type": "markdown",
   "metadata": {},
   "source": [
    "###          c.) Split data - Training and Testing\n"
   ]
  },
  {
   "cell_type": "code",
   "execution_count": 353,
   "metadata": {},
   "outputs": [],
   "source": [
    "## split the data to train and test\n",
    "X_train_text, X_test_text, y_train_text, y_test_text = train_test_split(X,y, test_size=0.2, random_state = 0)"
   ]
  },
  {
   "cell_type": "markdown",
   "metadata": {},
   "source": [
    "##      3.) Fit Model & Predict - Basically we are fitting the model with train data and predict using test data for accuracy.\n"
   ]
  },
  {
   "cell_type": "code",
   "execution_count": 385,
   "metadata": {},
   "outputs": [
    {
     "name": "stdout",
     "output_type": "stream",
     "text": [
      "Logistic Regression accuracy :  0.84\n"
     ]
    },
    {
     "name": "stderr",
     "output_type": "stream",
     "text": [
      "C:\\Users\\MACBOOK PRO\\AppData\\Local\\conda\\conda\\envs\\Data science\\lib\\site-packages\\sklearn\\linear_model\\logistic.py:433: FutureWarning: Default solver will be changed to 'lbfgs' in 0.22. Specify a solver to silence this warning.\n",
      "  FutureWarning)\n"
     ]
    }
   ],
   "source": [
    "## Classify the reviews as positive, negative using Logistic REGRESSION\n",
    "\n",
    "LR  = LogisticRegression() ## Logistic Regression\n",
    "LR.fit(X_train_text,y_train_text)\n",
    "\n",
    "y_pred = LR.predict(X_test_text)\n",
    "\n",
    "### Check accuracy of logistic regression\n",
    "print(\"Logistic Regression accuracy : \",accuracy_score(y_pred,y_test_text))"
   ]
  },
  {
   "cell_type": "code",
   "execution_count": 387,
   "metadata": {},
   "outputs": [
    {
     "name": "stdout",
     "output_type": "stream",
     "text": [
      "Stochastic Gradient descent accuracy:  0.82\n"
     ]
    },
    {
     "name": "stderr",
     "output_type": "stream",
     "text": [
      "C:\\Users\\MACBOOK PRO\\AppData\\Local\\conda\\conda\\envs\\Data science\\lib\\site-packages\\sklearn\\linear_model\\stochastic_gradient.py:166: FutureWarning: max_iter and tol parameters have been added in SGDClassifier in 0.19. If both are left unset, they default to max_iter=5 and tol=None. If tol is not None, max_iter defaults to max_iter=1000. From 0.21, default max_iter will be 1000, and default tol will be 1e-3.\n",
      "  FutureWarning)\n"
     ]
    }
   ],
   "source": [
    "## Classify the reviews as positive, negative using SGD(Stochastic Gradient Descent)\n",
    "\n",
    "SGD = SGDClassifier(class_weight={0:0.67935513, 0:1.89388265}, random_state= 0)\n",
    "SGD.fit(X_train_text,y_train_text)\n",
    "y_pred_SGD = SGD.predict(X_test_text) \n",
    "\n",
    "### Check accuracy of logistic regression\n",
    "print(\"Stochastic Gradient descent accuracy: \", accuracy_score(y_pred_SGD,y_test_text))"
   ]
  },
  {
   "cell_type": "markdown",
   "metadata": {},
   "source": [
    "##     4.) Data(Real) Sentiment analysis - Extract anyone of the types direct data like 'string' typed by you,text file,            csv file or social media streaming (Twitter, Facebook, Reddit etc..,) or web scrapping (Web pages)\n"
   ]
  },
  {
   "cell_type": "markdown",
   "metadata": {},
   "source": [
    "###        a.) Extract data - Here data is extracted from 'Twitter'\n"
   ]
  },
  {
   "cell_type": "code",
   "execution_count": 363,
   "metadata": {},
   "outputs": [],
   "source": [
    "## twitter credentials\n",
    "access_token    = '982595550934581248-urLVKNNd0mb6y0ItBeB3HK8epyOhNZf'\n",
    "access_secret   = 'DEGkyHHFMqPUWVnJilsymEJagLzy4Bp2AC2cmhEVZ9M1p'\n",
    "consumer_key    = 'Waz8Ur3r8eZLFeWIkOFNASsay'\n",
    "consumer_secret = 'chrHZwmKtNwwF4t3f0aejwQd0FUJ5c3N0SCjq6T1Bm82Ahitja'\n",
    "\n",
    "## initiate consumer authorization\n",
    "auth = OAuthHandler(consumer_key, consumer_secret)\n",
    "\n",
    "## initiate access token\n",
    "auth.set_access_token(access_token, access_secret)\n",
    "\n",
    "## initiate api\n",
    "api = API(auth)"
   ]
  },
  {
   "cell_type": "code",
   "execution_count": 364,
   "metadata": {},
   "outputs": [
    {
     "data": {
      "text/plain": [
       "2000"
      ]
     },
     "execution_count": 364,
     "metadata": {},
     "output_type": "execute_result"
    }
   ],
   "source": [
    "## Query and extract twitter messages\n",
    "\n",
    "query = 'elon musk'\n",
    "tweet_msg = []\n",
    "\n",
    "for msg in tweepy.Cursor(api.search, q = query+'-filter:retweets',lang='en' ,result_type='recent').items(2000):\n",
    "    tweet_msg.append(msg.text)\n",
    "\n",
    "## Lets see the number of messages extracted from twitter\n",
    "len(tweet_msg)"
   ]
  },
  {
   "cell_type": "markdown",
   "metadata": {},
   "source": [
    "###       b.) Text preprocessing Real data (Twitter)\n"
   ]
  },
  {
   "cell_type": "code",
   "execution_count": null,
   "metadata": {},
   "outputs": [],
   "source": [
    "cleaned_tweet = []\n",
    "for text in tweet_msg:\n",
    "        tweet = re.sub(r'\\w+:\\/{2}[\\d\\w-]+(\\.[\\d\\w-]+)*(?:(?:\\/[^\\s/]*))*', ' ', text)\n",
    "        tweet = re.sub(r'@\\s*', ' ', tweet)\n",
    "        tweet = tweet.lower()\n",
    "        tweet = re.sub(r'\\W', ' ', tweet)\n",
    "        tweet = re.sub(r'\\d', ' ', tweet)           \n",
    "        cleaned_tweet.append(tweet)"
   ]
  },
  {
   "cell_type": "markdown",
   "metadata": {},
   "source": [
    "##      5.) Perform Sentiment Analysis - using algorithms"
   ]
  },
  {
   "cell_type": "code",
   "execution_count": null,
   "metadata": {},
   "outputs": [],
   "source": [
    "tweet_vector = tfidfvector.fit_transform(cleaned_tweet) # Convert real data words t0 vector"
   ]
  },
  {
   "cell_type": "markdown",
   "metadata": {},
   "source": [
    "### a.) Using Logistic Regression"
   ]
  },
  {
   "cell_type": "code",
   "execution_count": 388,
   "metadata": {},
   "outputs": [
    {
     "name": "stdout",
     "output_type": "stream",
     "text": [
      "No.of positive reviews :  865\n",
      "No.of Negative reviews :  1135\n"
     ]
    }
   ],
   "source": [
    "LR_tweet_pred = LR.predict(tweet_vector)  ## Predict using Logistic Regression\n",
    "\n",
    "## need to know how many 0's(Positve) and 1's(Negative)\n",
    "LR_pos_neg_result = collections.Counter(LR_tweet_pred)\n",
    "print(\"No.of positive reviews : \", LR_pos_neg_result[0])\n",
    "print(\"No.of Negative reviews : \", LR_pos_neg_result[1])"
   ]
  },
  {
   "cell_type": "code",
   "execution_count": 407,
   "metadata": {},
   "outputs": [
    {
     "data": {
      "image/png": "[encoded data removed]",
      "text/plain": [
       "<Figure size 432x288 with 1 Axes>"
      ]
     },
     "metadata": {
      "needs_background": "light"
     },
     "output_type": "display_data"
    }
   ],
   "source": [
    "### Visualization of Logistic regression\n",
    "obj = ['Positive', 'Negative']\n",
    "y_pos = np.arange(len(obj))\n",
    "plt.bar(y_pos,[LR_pos_neg_result[0], LR_pos_neg_result[1]])\n",
    "plt.xticks(y_pos,obj)\n",
    "plt.ylabel('No. of Tweets')\n",
    "plt.title('Postive and Negitive Tweets')\n",
    "plt.show()"
   ]
  },
  {
   "cell_type": "markdown",
   "metadata": {},
   "source": [
    "### b.) Using Stochastic Gradient Descent"
   ]
  },
  {
   "cell_type": "code",
   "execution_count": 390,
   "metadata": {},
   "outputs": [
    {
     "name": "stdout",
     "output_type": "stream",
     "text": [
      "No.of positive reviews :  964\n",
      "No.of Negative reviews :  1036\n"
     ]
    }
   ],
   "source": [
    "SGD_tweet_pred = SGD.predict(tweet_vector)\n",
    "\n",
    "## need to know how many 0's(Positve) and 1's(Negative)\n",
    "SGD_pos_neg_result = collections.Counter(SGD_tweet_pred)\n",
    "print(\"No.of positive reviews : \", SGD_pos_neg_result[0])\n",
    "print(\"No.of Negative reviews : \", SGD_pos_neg_result[1])"
   ]
  },
  {
   "cell_type": "code",
   "execution_count": 408,
   "metadata": {},
   "outputs": [
    {
     "data": {
      "image/png": "[encoded data removed]",
      "text/plain": [
       "<Figure size 432x288 with 1 Axes>"
      ]
     },
     "metadata": {
      "needs_background": "light"
     },
     "output_type": "display_data"
    }
   ],
   "source": [
    "### Visualization of Stochastic Gradient Descent\n",
    "obj = ['Positive', 'Negative']\n",
    "y_pos = np.arange(len(obj))\n",
    "plt.bar(y_pos,[LR_pos_neg_result[0], LR_pos_neg_result[1]])\n",
    "plt.xticks(y_pos,obj)\n",
    "plt.ylabel('No. of Tweets')\n",
    "plt.title('Postive and Negitive Tweets')\n",
    "plt.show()"
   ]
  },
  {
   "cell_type": "code",
   "execution_count": null,
   "metadata": {},
   "outputs": [],
   "source": []
  },
  {
   "cell_type": "code",
   "execution_count": null,
   "metadata": {},
   "outputs": [],
   "source": []
  },
  {
   "cell_type": "code",
   "execution_count": null,
   "metadata": {},
   "outputs": [],
   "source": []
  },
  {
   "cell_type": "code",
   "execution_count": null,
   "metadata": {},
   "outputs": [],
   "source": []
  },
  {
   "cell_type": "code",
   "execution_count": null,
   "metadata": {},
   "outputs": [],
   "source": []
  },
  {
   "cell_type": "code",
   "execution_count": null,
   "metadata": {},
   "outputs": [],
   "source": []
  }
 ],
 "metadata": {
  "kernelspec": {
   "display_name": "Python 3",
   "language": "python",
   "name": "python3"
  },
  "language_info": {
   "codemirror_mode": {
    "name": "ipython",
    "version": 3
   },
   "file_extension": ".py",
   "mimetype": "text/x-python",
   "name": "python",
   "nbconvert_exporter": "python",
   "pygments_lexer": "ipython3",
   "version": "3.6.8"
  }
 },
 "nbformat": 4,
 "nbformat_minor": 2
}
